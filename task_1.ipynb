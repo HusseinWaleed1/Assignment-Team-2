{
  "nbformat": 4,
  "nbformat_minor": 0,
  "metadata": {
    "colab": {
      "provenance": [],

      "include_colab_link": true
    },
    "kernelspec": {
      "name": "python3",
      "display_name": "Python 3"
    },
    "language_info": {
      "name": "python"
    }
  },
  "cells": [
    {
      "cell_type": "markdown",
      "metadata": {
        "id": "view-in-github",
        "colab_type": "text"
      },
      "source": [
        "<a href=\"https://colab.research.google.com/github/yusef-atef/Assignment-Team-2/blob/main/task_1.ipynb\" target=\"_parent\"><img src=\"https://colab.research.google.com/assets/colab-badge.svg\" alt=\"Open In Colab\"/></a>"
      ]
    },
    {
      "cell_type": "code",

      "metadata": {
        "colab": {
          "base_uri": "https://localhost:8080/"
        },
        "id": "-8JaZCSJXBGK",
        "outputId": "f57a1ecb-30e8-4362-8d80-7502ba14157d"
      },
      "outputs": [
        {
          "output_type": "stream",
          "name": "stdout",
          "text": [
            " Hello World Hussein Waleed\n"
          ]
        }
      ],
      "source": [
        "print(' Hello World Hussein Waleed')"
      ]
    },
    {
      "cell_type": "code",
      "source": [
        "print(\"Hello World From Yusef Atef Ahmed\")"
      ],
      "metadata": {

      },
      "execution_count": 1,
      "outputs": [
        {
          "output_type": "stream",
          "name": "stdout",
          "text": [
            "Hello World From Yusef Atef Ahmed\n"
          ]
        }
      ]
    }
  ]
}